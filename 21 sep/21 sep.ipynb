{
 "cells": [
  {
   "cell_type": "code",
   "execution_count": 2,
   "metadata": {},
   "outputs": [],
   "source": [
    "import pandas as pd"
   ]
  },
  {
   "cell_type": "code",
   "execution_count": 4,
   "metadata": {},
   "outputs": [
    {
     "name": "stdout",
     "output_type": "stream",
     "text": [
      "0    1\n",
      "1    2\n",
      "2    3\n",
      "dtype: int64\n"
     ]
    }
   ],
   "source": [
    "s1=pd.Series([1,2,3])\n",
    "print(s1)"
   ]
  },
  {
   "cell_type": "code",
   "execution_count": 5,
   "metadata": {},
   "outputs": [
    {
     "name": "stdout",
     "output_type": "stream",
     "text": [
      "a    1\n",
      "b    2\n",
      "c    3\n",
      "dtype: int64\n"
     ]
    }
   ],
   "source": [
    "s2=pd.Series([1,2,3],['a','b','c'])\n",
    "print(s2)"
   ]
  },
  {
   "cell_type": "code",
   "execution_count": 7,
   "metadata": {},
   "outputs": [
    {
     "name": "stdout",
     "output_type": "stream",
     "text": [
      "1    a\n",
      "2    b\n",
      "3    c\n",
      "dtype: object\n"
     ]
    }
   ],
   "source": [
    "s3=pd.Series(['a','b','c'],index=[1,2,3])\n",
    "print(s3)"
   ]
  },
  {
   "cell_type": "code",
   "execution_count": 13,
   "metadata": {},
   "outputs": [
    {
     "name": "stdout",
     "output_type": "stream",
     "text": [
      "10    10\n",
      "11    11\n",
      "12    12\n",
      "13    13\n",
      "14    14\n",
      "15    15\n",
      "16    16\n",
      "17    17\n",
      "18    18\n",
      "19    19\n",
      "20    20\n",
      "21    21\n",
      "22    22\n",
      "23    23\n",
      "24    24\n",
      "25    25\n",
      "26    26\n",
      "27    27\n",
      "28    28\n",
      "29    29\n",
      "30    30\n",
      "dtype: int64\n"
     ]
    }
   ],
   "source": [
    "s4=pd.Series(list(range(10,30+1)),index=list(range(10,30+1)))\n",
    "print(s4)"
   ]
  },
  {
   "cell_type": "code",
   "execution_count": 25,
   "metadata": {},
   "outputs": [
    {
     "name": "stdout",
     "output_type": "stream",
     "text": [
      "20\n",
      "1     19\n",
      "2     18\n",
      "3     10\n",
      "4     20\n",
      "5     19\n",
      "6     21\n",
      "7      9\n",
      "8      6\n",
      "9      9\n",
      "10    18\n",
      "11    19\n",
      "12     2\n",
      "13    24\n",
      "14    22\n",
      "15    22\n",
      "16    11\n",
      "17    24\n",
      "18    21\n",
      "19    21\n",
      "20     1\n",
      "dtype: int64\n"
     ]
    }
   ],
   "source": [
    "import random\n",
    "r = [random.randint(1,25)for i in range(1,21)]\n",
    "print(len(r))\n",
    "s4=pd.Series(r,index=list(range(1,21)))\n",
    "print(s4)"
   ]
  },
  {
   "cell_type": "code",
   "execution_count": 26,
   "metadata": {},
   "outputs": [
    {
     "name": "stdout",
     "output_type": "stream",
     "text": [
      "2019-09-21    1\n",
      "2019-09-22    2\n",
      "2019-09-23    3\n",
      "2019-09-24    4\n",
      "Freq: D, dtype: int64\n"
     ]
    }
   ],
   "source": [
    "s5=pd.Series([1,2,3,4],pd.date_range('21-09-2019','24-09-2019'))\n",
    "print(s5)"
   ]
  },
  {
   "cell_type": "code",
   "execution_count": 35,
   "metadata": {},
   "outputs": [
    {
     "name": "stdout",
     "output_type": "stream",
     "text": [
      "0     2\n",
      "1     4\n",
      "2     6\n",
      "3     8\n",
      "4    10\n",
      "5    12\n",
      "6    14\n",
      "7    16\n",
      "8    18\n",
      "9    20\n",
      "dtype: int64\n"
     ]
    }
   ],
   "source": [
    "l=pd.Series([i for i in range(1,21) if i%2==0])\n",
    "print(l)"
   ]
  },
  {
   "cell_type": "code",
   "execution_count": null,
   "metadata": {},
   "outputs": [],
   "source": [
    "#v=at\n",
    "a=[1,2,3,4,5]\n",
    "t=[1,2,3,4,5]\n",
    "v=[a[i]*t[i] for i in range(0,len(a))]\n",
    "plt.plot(v,a)\n",
    "plt.title(\"v=at\")\n",
    "plt.xlab "
   ]
  }
 ],
 "metadata": {
  "kernelspec": {
   "display_name": "Python 3",
   "language": "python",
   "name": "python3"
  },
  "language_info": {
   "codemirror_mode": {
    "name": "ipython",
    "version": 3
   },
   "file_extension": ".py",
   "mimetype": "text/x-python",
   "name": "python",
   "nbconvert_exporter": "python",
   "pygments_lexer": "ipython3",
   "version": "3.7.3"
  }
 },
 "nbformat": 4,
 "nbformat_minor": 2
}
